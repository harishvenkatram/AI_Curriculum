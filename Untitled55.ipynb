{
  "nbformat": 4,
  "nbformat_minor": 0,
  "metadata": {
    "colab": {
      "name": "Untitled55.ipynb",
      "provenance": [],
      "authorship_tag": "ABX9TyPMPfi3Na7eVA7eBwYn+OXX",
      "include_colab_link": true
    },
    "kernelspec": {
      "name": "python3",
      "display_name": "Python 3"
    }
  },
  "cells": [
    {
      "cell_type": "markdown",
      "metadata": {
        "id": "view-in-github",
        "colab_type": "text"
      },
      "source": [
        "<a href=\"https://colab.research.google.com/github/harishvenkatram/AI_Curriculum/blob/master/Untitled55.ipynb\" target=\"_parent\"><img src=\"https://colab.research.google.com/assets/colab-badge.svg\" alt=\"Open In Colab\"/></a>"
      ]
    },
    {
      "cell_type": "code",
      "metadata": {
        "id": "6tjiMNbrcupD"
      },
      "source": [
        "#Questions 1\r\n",
        "#Find the value of the following questions, Where x=5\r\n",
        "#(2x+5/x^2+5x+6)\r\n",
        "#(x^2+5x+6/2x+5)\r\n",
        "#(2x-3)(x-9)\r\n",
        "\r\n",
        "#Solution\r\n"
      ],
      "execution_count": null,
      "outputs": []
    },
    {
      "cell_type": "code",
      "metadata": {
        "id": "GOv1-thUlLxD"
      },
      "source": [
        "#Questions 2\r\n",
        "#Create a username and password login file using nested while loop\r\n",
        "\r\n",
        "#Solution"
      ],
      "execution_count": null,
      "outputs": []
    }
  ]
}