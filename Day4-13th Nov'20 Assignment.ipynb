{
  "nbformat": 4,
  "nbformat_minor": 0,
  "metadata": {
    "colab": {
      "name": "Untitled24.ipynb",
      "provenance": [],
      "authorship_tag": "ABX9TyOjP7RBuphatpD2xLd/Dd0E",
      "include_colab_link": true
    },
    "kernelspec": {
      "name": "python3",
      "display_name": "Python 3"
    }
  },
  "cells": [
    {
      "cell_type": "markdown",
      "metadata": {
        "id": "view-in-github",
        "colab_type": "text"
      },
      "source": [
        "<a href=\"https://colab.research.google.com/github/harishvenkatram/AI_Curriculum/blob/master/Day4-13th%20Nov'20%20Assignment.ipynb\" target=\"_parent\"><img src=\"https://colab.research.google.com/assets/colab-badge.svg\" alt=\"Open In Colab\"/></a>"
      ]
    },
    {
      "cell_type": "code",
      "metadata": {
        "id": "wpLtP0AoHKMq"
      },
      "source": [
        "#Question 1\n",
        "#Solution\n"
      ],
      "execution_count": null,
      "outputs": []
    },
    {
      "cell_type": "code",
      "metadata": {
        "id": "j3UGQjTpHYhF"
      },
      "source": [
        "#Question 2\n",
        "#Solution"
      ],
      "execution_count": null,
      "outputs": []
    },
    {
      "cell_type": "code",
      "metadata": {
        "id": "UYYwqboZHbdn"
      },
      "source": [
        "#Question 3\n",
        "#Solution"
      ],
      "execution_count": null,
      "outputs": []
    },
    {
      "cell_type": "code",
      "metadata": {
        "id": "_2ztbQqDHiz-"
      },
      "source": [
        "#Question 4\n",
        "#Solution"
      ],
      "execution_count": null,
      "outputs": []
    },
    {
      "cell_type": "code",
      "metadata": {
        "id": "76sy3c0vHkUb"
      },
      "source": [
        "#Question 5\n",
        "#Solution"
      ],
      "execution_count": null,
      "outputs": []
    },
    {
      "cell_type": "code",
      "metadata": {
        "id": "I5qVCvnPHlpD"
      },
      "source": [
        "#Question 6\n",
        "#Solution"
      ],
      "execution_count": null,
      "outputs": []
    }
  ]
}